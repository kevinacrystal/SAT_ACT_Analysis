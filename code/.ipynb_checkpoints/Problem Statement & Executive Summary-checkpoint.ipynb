{
 "cells": [
  {
   "cell_type": "markdown",
   "metadata": {},
   "source": [
    "# Project 1: SAT & ACT Analysis"
   ]
  },
  {
   "cell_type": "markdown",
   "metadata": {},
   "source": [
    "## Problem Statement"
   ]
  },
  {
   "cell_type": "markdown",
   "metadata": {},
   "source": [
    "This project aims to help executives with the College Board improve SAT participation rates by providing recommendations on where money is best spent to achieve that goal."
   ]
  },
  {
   "cell_type": "markdown",
   "metadata": {},
   "source": [
    "## Executive Summary\n",
    "### Methodology:\n",
    "The project will examine trends in SAT and ACT participation rates, from 2017 to 2018, in order to identify states that demonstrate interesting trends in their participation rates.\n",
    "Additional research will be conducted on state policies that might influence these rates.\n",
    "\n",
    "### Contents:\n",
    "- [2017 Data Import & Cleaning](https://git.generalassemb.ly/kevincrystal/DSI-labs-and-projects/blob/master/projects/project_1/code/2017%20Data%20Import%20and%20Cleaning.ipynb)\n",
    "- [2018 Data Import and Cleaning](https://git.generalassemb.ly/kevincrystal/DSI-labs-and-projects/blob/master/projects/project_1/code/2018%20Data%20Import%20and%20Cleaning.ipynb)\n",
    "- [Exploratory Data Analysis](https://git.generalassemb.ly/kevincrystal/DSI-labs-and-projects/blob/master/projects/project_1/code/Descriptive%20and%20Inferential%20Statistics.ipynb)\n",
    "- [Data Visualization](https://git.generalassemb.ly/kevincrystal/DSI-labs-and-projects/blob/master/projects/project_1/code/Data%20Visualization.ipynb)\n",
    "- [Descriptive and Inferential Statistics](#Descriptive-and-Inferential-Statistics)\n",
    "- [Outside Research](https://git.generalassemb.ly/kevincrystal/DSI-labs-and-projects/blob/master/projects/project_1/code/Outside%20Research%2C%20Conclusion%2C%20Recommendations.ipynb)\n",
    "- [Conclusions and Recommendations](https://git.generalassemb.ly/kevincrystal/DSI-labs-and-projects/blob/master/projects/project_1/code/Outside%20Research%2C%20Conclusion%2C%20Recommendations.ipynb)"
   ]
  },
  {
   "cell_type": "markdown",
   "metadata": {},
   "source": [
    "## Data Dictionary\n",
    "|Feature|Type|Dataset|Description|\n",
    "|---|---|---|---|\n",
    "|**state**|object|ACT|The US state to which the data applies| \n",
    "|**2017_act_participation**|int|ACT|The percentage of students in the state who took the ACT in 2017| \n",
    "|**2017_act_english**|float|ACT|The average 2017 ACT English score for the state (scored between 1 and 36)| \n",
    "|**2017_act_math**|float|ACT|The average 2017 ACT Math score for the state (scored between 1 and 36)| \n",
    "|**2017_act_reading**|float|ACT|The average 2017 ACT Reading score for the state (scored between 1 and 36)| \n",
    "|**2017_act_science**|float|ACT|The average 2017 ACT Science score for the state (scored between 1 and 36)|\n",
    "|**2017_act_composite**|float|ACT|The average 2017 ACT Composite score for the state; the Composite score is the average of the four subject scores (enlish, math, reading, science)| \n",
    "|**2017_sat_participation**|int|SAT|The percentage of students in the state who took the SAT in 2017| \n",
    "|**2017_sat_evidence-based_reading_and_writing**|int|SAT|The 2017 average SAT Evidence-Based Reading and Writing score for the state (scored between 200 and 800)| \n",
    "|**2017_sat_math**|int|SAT|The 2017 average SAT Math score fore the state (scored between 200 and 800)| \n",
    "|**2017_sat_total**|int|SAT|The 2017 average total score for the state; total score is the sum of evidence-based_reading_and_writing and math, so it can range from 400 to 1600|\n",
    "|**2018_act_participation**|int|ACT|The percentage of students in the state who took the ACT in 2018|\n",
    "|**2018_act_composite**|float|ACT|The 2018 average ACT Composite score for the state|\n",
    "|**2018_sat_participation**|int|SAT|The percentage of students in the state who took the SAT in 2018|\n",
    "|**2018_sat_evidence-based_reading_and_writing**|int|SAT|The 2018 average SAT Evidence-Based Reading and Writing score for the state|\n",
    "|**2018_sat_math**|int|SAT|The 2018 average SAT Math score for the state|\n",
    "|**2018_sat_total**|int|SAT|The 2018 average SAT Total score for the state|"
   ]
  },
  {
   "cell_type": "markdown",
   "metadata": {},
   "source": [
    "## Conclusions and Recommendations\n",
    "Based on my exploration of the data, my key takeaway is that the largest increases in SAT participation rates are due to the exam being mandated by the state; thus my recommendation is that the College Board focus on getting states to add the SAT as a graduation requirement for high school students.\n",
    "\n",
    "Oregon had 2018 participation rates below 50% for both the SAT and the SAT, and could be a good state to target for state-mandated testing."
   ]
  },
  {
   "cell_type": "markdown",
   "metadata": {},
   "source": [
    "## Sources\n",
    "https://blog.collegevine.com/here-are-the-average-sat-scores-by-state/  \n",
    "https://blog.prepscholar.com/act-scores-by-state-averages-highs-and-lows  \n",
    "https://reports.collegeboard.org/sat-suite-program-results/state-results  \n",
    "http://www.act.org/content/dam/act/unsecured/documents/cccr2018/Average-Scores-by-State.pdf  \n",
    "http://www.chicagotribune.com/news/ct-illinois-chooses-sat-met-20160211-story.html  \n",
    "https://www.cde.state.co.us/assessment/coloradosat  \n",
    "https://www.usnews.com/news/best-states/rhode-island/articles/2018-10-25/sat-participation-increases-scores-decline-in-ri"
   ]
  },
  {
   "cell_type": "code",
   "execution_count": null,
   "metadata": {},
   "outputs": [],
   "source": []
  }
 ],
 "metadata": {
  "anaconda-cloud": {},
  "kernelspec": {
   "display_name": "Python 3",
   "language": "python",
   "name": "python3"
  },
  "language_info": {
   "codemirror_mode": {
    "name": "ipython",
    "version": 3
   },
   "file_extension": ".py",
   "mimetype": "text/x-python",
   "name": "python",
   "nbconvert_exporter": "python",
   "pygments_lexer": "ipython3",
   "version": "3.6.8"
  }
 },
 "nbformat": 4,
 "nbformat_minor": 2
}
