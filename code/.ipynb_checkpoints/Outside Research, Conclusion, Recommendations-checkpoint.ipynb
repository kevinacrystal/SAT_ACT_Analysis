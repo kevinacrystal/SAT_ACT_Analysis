{
 "cells": [
  {
   "cell_type": "markdown",
   "metadata": {},
   "source": [
    "## Outside Research"
   ]
  },
  {
   "cell_type": "markdown",
   "metadata": {},
   "source": [
    "Illinois and Colorado SAT participation rates increased 90 and 89 percentage points, respectively, from 2017 to 2018.\n",
    "\n",
    "These were due largely to legislation.\n",
    "\n",
    "In 2016, the Illinois Board of Education awarded a three-year contract to the College Board, mandating that all 11th graders must take the SAT. 99% participation was seen in 2018. (www.chicagotribune.com/news/ct-illinois-chooses-sat-met-20160211-story.html)\n",
    "\n",
    "Similarly, Colorado legislation in 2015 chose the SAT as the required test for 11th graders in the state, and 100% participation was first seen in 2018. (https://www.cde.state.co.us/assessment/coloradosat)\n",
    "\n",
    "A third state, Rhode Island, which had 71% participation on the 2017 SAT, made the exam a graduation requirement in 2018, and saw the participation rate increase to 97%. (https://www.usnews.com/news/best-states/rhode-island/articles/2018-10-25/sat-participation-increases-scores-decline-in-ri)\n",
    "\n"
   ]
  },
  {
   "cell_type": "markdown",
   "metadata": {},
   "source": [
    "## Conclusions and Recommendations"
   ]
  },
  {
   "cell_type": "markdown",
   "metadata": {},
   "source": [
    "Based on my exploration of the data, my key takeaway is that the largest increases in SAT participation rates are due to the exam being mandated by the state; thus my recommendation is that the College Board focus on getting states to add the SAT as a graduation requirement for high school students.\n",
    "\n",
    "Oregon had 2018 participation rates below 50% for both the SAT and the SAT, and could be a good state to target for state-mandated testing."
   ]
  },
  {
   "cell_type": "code",
   "execution_count": null,
   "metadata": {},
   "outputs": [],
   "source": []
  },
  {
   "cell_type": "code",
   "execution_count": null,
   "metadata": {},
   "outputs": [],
   "source": []
  }
 ],
 "metadata": {
  "kernelspec": {
   "display_name": "Python 3",
   "language": "python",
   "name": "python3"
  },
  "language_info": {
   "codemirror_mode": {
    "name": "ipython",
    "version": 3
   },
   "file_extension": ".py",
   "mimetype": "text/x-python",
   "name": "python",
   "nbconvert_exporter": "python",
   "pygments_lexer": "ipython3",
   "version": "3.6.8"
  }
 },
 "nbformat": 4,
 "nbformat_minor": 2
}
