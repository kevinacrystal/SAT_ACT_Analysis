{
 "cells": [
  {
   "cell_type": "code",
   "execution_count": 8,
   "metadata": {},
   "outputs": [],
   "source": [
    "import pandas as pd"
   ]
  },
  {
   "cell_type": "code",
   "execution_count": 9,
   "metadata": {},
   "outputs": [],
   "source": [
    "final = pd.read_csv('../data/final.csv', index_col=0)"
   ]
  },
  {
   "cell_type": "markdown",
   "metadata": {},
   "source": [
    "## Descriptive and Inferential Statistics"
   ]
  },
  {
   "cell_type": "markdown",
   "metadata": {},
   "source": [
    "#### Summarizing Distributions\n",
    "\n",
    "Above, we used pandas `describe` to provide quick summary statistics of our numeric columns. We also demonstrated many visual relationships.\n",
    "\n",
    "As data scientists, having a complete understanding of data is imperative prior to modeling.\n",
    "\n",
    "While we will continue to build our analytic tools, we know that measures of *central tendency*, *spread*, and *shape/skewness* provide a quick summary of distributions.\n",
    "\n",
    "For each variable in your data, summarize the underlying distributions (in words & statistics)\n",
    " - Be thorough in your verbal description of these distributions.\n",
    " - Be sure to back up these summaries with statistics."
   ]
  },
  {
   "cell_type": "markdown",
   "metadata": {},
   "source": [
    "Answers:\n",
    "\n",
    "'2017_act_participation': \n",
    " range: 8-100,\n",
    " IQR: 31-100,\n",
    " skewed left.\n",
    "\n",
    "'2017_act_english':\n",
    " range:16.3-25.5, \n",
    " IQR: 19-23.3,\n",
    " skewed right.\n",
    "\n",
    "'2017_act_math': \n",
    " range: 18-25.3,\n",
    " IQR: 19.4-23.1,\n",
    " skewed right.\n",
    "       \n",
    "'2017_act_reading': \n",
    " range: 18.1-26,\n",
    " IQR: 20.45-24.15,\n",
    " skewed right.\n",
    "\n",
    "'2017_act_science': \n",
    " range: 18.2-24,\n",
    " IQR: 19.95-23.2,\n",
    " skewed right.\n",
    "\n",
    "'2017_act_composite': \n",
    " range: 17.8-25.5,\n",
    " IQR: 19.8-23.6,\n",
    " skewed right.\n",
    "       \n",
    "'2017_sat_participation': \n",
    " range: 2-100,\n",
    " IQR: 4-66,\n",
    " skewed right. \n",
    "       \n",
    "'2017_sat_evidence-based_reading_and_writing': \n",
    " range: 482-644,\n",
    " IQR: 533-613,\n",
    " skewed right.\n",
    "       \n",
    "'2017_sat_math': \n",
    " range: 468-651,\n",
    " IQR: 523-599,\n",
    " skewed right.\n",
    "\n",
    "'2017_sat_total': \n",
    " range: 950-1295,\n",
    " IQR: 1055-1212,\n",
    " skewed right. \n",
    "\n",
    "'2018_act_participation': \n",
    " range: 7-100,\n",
    " IQR: 28.5-100,\n",
    " skewed left.\n",
    "\n",
    "'2018_act_composite': \n",
    " range: 17.7-25.6,\n",
    " IQR: 19.95-23.65,\n",
    " skewed right.\n",
    "\n",
    "'2018_sat_participation': \n",
    " range: 2-100,\n",
    " IQR: 4.5-77.5,\n",
    " skewed right.\n",
    "\n",
    "'2018_sat_evidence-based_reading_and_writing': \n",
    " range: 480-643,\n",
    " IQR: 534-610,\n",
    " skewed right.\n",
    "\n",
    "'2018_sat_math': \n",
    " range: 480-655,\n",
    " IQR: 522-593,\n",
    " skewed right.\n",
    "\n",
    "'2018_sat_total: \n",
    " range: 977-1298,\n",
    " IQR:1057-1204,\n",
    " skewed right.\n"
   ]
  },
  {
   "cell_type": "markdown",
   "metadata": {},
   "source": [
    "#### We generally assuming that data we sample from a population will be normally distributed. Do we observe this trend?"
   ]
  },
  {
   "cell_type": "markdown",
   "metadata": {},
   "source": [
    "Answer: No"
   ]
  },
  {
   "cell_type": "markdown",
   "metadata": {},
   "source": [
    "Does This Assumption Hold for:\n",
    "    - Math\n",
    "    - Reading\n",
    "    - Rates\n",
    "Explain your answers for each distribution and how you think this will affect estimates made from these data."
   ]
  },
  {
   "cell_type": "markdown",
   "metadata": {},
   "source": [
    "Answer: No"
   ]
  },
  {
   "cell_type": "markdown",
   "metadata": {},
   "source": [
    "#### Estimate Limits of Data\n",
    "\n",
    "Suppose we only seek to understand the relationship between SAT and ACT participation rates in 2017. \n",
    "\n",
    "##### Does it make sense to conduct statistical inference given these data specifically? \n",
    "\n",
    "Why or why not?\n",
    "\n",
    "*(think about granularity, aggregation, the relationships between populations size & rates...consider the actually populations these data describe in answering this question)*"
   ]
  },
  {
   "cell_type": "markdown",
   "metadata": {},
   "source": [
    "Answer: It doesn't make sense to conduct statistical inference based on this data, for several reasons. First, the data is not weighted based on the actual populations of the states. Second, there are several biases in the data: some of the states mandate that all students take a certain exam, while others do not; in states where students have to opt into taking an exam, the scores are biased upwards."
   ]
  },
  {
   "cell_type": "markdown",
   "metadata": {},
   "source": [
    "##### Is it appropriate to compare *these* specific SAT and ACT math scores? \n",
    "\n",
    "Why or why not?"
   ]
  },
  {
   "cell_type": "markdown",
   "metadata": {},
   "source": [
    "Answer: SAT and ACT math scores should not be compared, because the tests are not equivalent."
   ]
  },
  {
   "cell_type": "markdown",
   "metadata": {},
   "source": [
    "#### Statistical Evaluation of Distributions \n",
    "\n",
    "**If you feel it's appropriate**, using methods we discussed in class, run hypothesis tests to compare variables of interest in our dataset. "
   ]
  },
  {
   "cell_type": "code",
   "execution_count": null,
   "metadata": {},
   "outputs": [],
   "source": [
    "# Code:"
   ]
  },
  {
   "cell_type": "code",
   "execution_count": null,
   "metadata": {},
   "outputs": [],
   "source": []
  }
 ],
 "metadata": {
  "kernelspec": {
   "display_name": "Python 3",
   "language": "python",
   "name": "python3"
  },
  "language_info": {
   "codemirror_mode": {
    "name": "ipython",
    "version": 3
   },
   "file_extension": ".py",
   "mimetype": "text/x-python",
   "name": "python",
   "nbconvert_exporter": "python",
   "pygments_lexer": "ipython3",
   "version": "3.6.8"
  }
 },
 "nbformat": 4,
 "nbformat_minor": 2
}
